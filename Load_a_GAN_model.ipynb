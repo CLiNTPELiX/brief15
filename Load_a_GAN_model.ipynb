{
  "nbformat": 4,
  "nbformat_minor": 0,
  "metadata": {
    "colab": {
      "name": "Load a GAN model",
      "provenance": []
    },
    "kernelspec": {
      "name": "python3",
      "display_name": "Python 3"
    },
    "language_info": {
      "name": "python"
    }
  },
  "cells": [
    {
      "cell_type": "code",
      "metadata": {
        "id": "dejJpzfLniBT"
      },
      "source": [
        "from google.colab import drive\n",
        "from keras.models import load_model\n",
        "import tensorflow as tf\n",
        "import keras, os\n"
      ],
      "execution_count": null,
      "outputs": []
    },
    {
      "cell_type": "code",
      "metadata": {
        "id": "FdDP79wMu2ui"
      },
      "source": [
        "drive.mount._DEBUG = True\n",
        "drive.mount('/content/gdrive/', force_remount=True)"
      ],
      "execution_count": null,
      "outputs": []
    },
    {
      "cell_type": "code",
      "metadata": {
        "colab": {
          "base_uri": "https://localhost:8080/"
        },
        "id": "gGnzqovwq0VM",
        "outputId": "5b2076db-7ae1-4f4c-bea1-5d207cfcee9e"
      },
      "source": [
        "num_img = 10\n",
        "latent_dim = 128\n",
        "\n",
        "generator = load_model(\"generator.h5\")\n",
        "random_latent_vectors = tf.random.normal(shape=(num_img, latent_dim))\n",
        "generated_images = generator(random_latent_vectors)\n",
        "generated_images *= 255\n",
        "generated_images.numpy()\n",
        "for i in range(num_img):\n",
        "    img = keras.preprocessing.image.array_to_img(generated_images[i])\n",
        "    img.save(\"generated_img_%d.png\" % (i))"
      ],
      "execution_count": null,
      "outputs": [
        {
          "output_type": "stream",
          "text": [
            "WARNING:tensorflow:No training configuration found in the save file, so the model was *not* compiled. Compile it manually.\n"
          ],
          "name": "stdout"
        }
      ]
    },
    {
      "cell_type": "code",
      "metadata": {
        "id": "BtsWW7YYsWZp"
      },
      "source": [
        ""
      ],
      "execution_count": null,
      "outputs": []
    }
  ]
}