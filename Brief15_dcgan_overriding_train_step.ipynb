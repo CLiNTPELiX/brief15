{
  "nbformat": 4,
  "nbformat_minor": 0,
  "metadata": {
    "colab": {
      "name": "Brief15 - dcgan_overriding_train_step",
      "provenance": [],
      "collapsed_sections": []
    },
    "kernelspec": {
      "display_name": "Python 3",
      "language": "python",
      "name": "python3"
    },
    "language_info": {
      "codemirror_mode": {
        "name": "ipython",
        "version": 3
      },
      "file_extension": ".py",
      "mimetype": "text/x-python",
      "name": "python",
      "nbconvert_exporter": "python",
      "pygments_lexer": "ipython3",
      "version": "3.7.0"
    },
    "accelerator": "GPU"
  },
  "cells": [
    {
      "cell_type": "markdown",
      "metadata": {
        "id": "kKCKya2IyQIM"
      },
      "source": [
        "\n",
        "\n",
        "```\n",
        "# num=0; for i in *; do mv \"$i\" \"$(printf '%04d' $num).${i#*.}\"; ((num++)); done\n",
        "```\n",
        "\n",
        "# DCGAN to generate face images\n",
        "\n",
        "**Author:** [fchollet](https://twitter.com/fchollet)<br>\n",
        "**Date created:** 2019/04/29<br>\n",
        "**Last modified:** 2021/01/01<br>\n",
        "**Description:** A simple DCGAN trained using `fit()` by overriding `train_step` on CelebA images."
      ]
    },
    {
      "cell_type": "markdown",
      "metadata": {
        "id": "OKTMJv4uyQIP"
      },
      "source": [
        "## Setup"
      ]
    },
    {
      "cell_type": "code",
      "metadata": {
        "id": "Ya63mJNjyQIR"
      },
      "source": [
        "import tensorflow as tf\n",
        "from tensorflow import keras\n",
        "from tensorflow.keras import layers\n",
        "import numpy as np\n",
        "import matplotlib.pyplot as plt\n",
        "import os\n",
        "import gdown\n",
        "from zipfile import ZipFile"
      ],
      "execution_count": 1,
      "outputs": []
    },
    {
      "cell_type": "markdown",
      "metadata": {
        "id": "plr0eJ2ryQIS"
      },
      "source": [
        "## Prepare CelebA data\n",
        "\n",
        "We'll use face images from the CelebA dataset, resized to 64x64."
      ]
    },
    {
      "cell_type": "code",
      "metadata": {
        "id": "5BGae2Qg59bT"
      },
      "source": [
        "from google.colab import drive\n",
        "import os"
      ],
      "execution_count": 2,
      "outputs": []
    },
    {
      "cell_type": "code",
      "metadata": {
        "colab": {
          "base_uri": "https://localhost:8080/"
        },
        "id": "1uJBRMysy-2j",
        "outputId": "1c909422-fd6a-4f9f-a5c2-b45550ec37d6"
      },
      "source": [
        "drive.mount._DEBUG = True\n",
        "drive.mount('/content/gdrive/', force_remount=True)"
      ],
      "execution_count": 3,
      "outputs": [
        {
          "output_type": "stream",
          "text": [
            "unset HISTFILE; export PS1=\"root@9359b7f40b25-3de42b26e6c2425caeebac3811b64497: \"\n",
            "bash: cannot set terminal process group (-1): Inappropriate ioctl for device\n",
            "bash: no job control in this shell\n",
            "\u001b[01;34m/content\u001b[00m# root@9359b7f40b25-3de42b26e6c2425caeebac3811b64497: umount -f /content/gdrive/ || umount /content/gdrive/; pkill -9 -x drive\n",
            "umount: /content/gdrive/: no mount point specified.\n",
            "umount: /content/gdrive/: no mount point specified.\n",
            "root@9359b7f40b25-3de42b26e6c2425caeebac3811b64497: pkill -9 -f /opt/google/drive/directoryprefetcher_binary\n",
            "root@9359b7f40b25-3de42b26e6c2425caeebac3811b64497: ( while `sleep 0.5`; do if [[ -d \"/content/gdrive/\" && \"$(ls -A /content/gdrive/)\" != \"\" ]]; then echo \"google.colab.drive MOUNTED\"; break; fi; done ) &\n",
            "[1] 93\n",
            "root@9359b7f40b25-3de42b26e6c2425caeebac3811b64497: cat /tmp/tmpxhraytxh/drive.fifo | head -1 | ( /opt/google/drive/drive --features=fuse_max_background:1000,max_read_qps:1000,max_write_qps:1000,max_operation_batch_size:15,max_parallel_push_task_instances:10,opendir_timeout_ms:120000,virtual_folders_omit_spaces:true --inet_family=IPV4_ONLY --preferences=trusted_root_certs_file_path:/opt/google/drive/roots.pem,mount_point_path:/content/gdrive/ --console_auth 2>&1 | grep --line-buffered -E \"(Go to this URL in a browser: https://.*)$|Drive File Stream encountered a problem and has stopped|Authorization failed|The domain policy has disabled Drive File Stream\"; echo \"drive EXITED\"; ) &\n",
            "[2] 97\n",
            "root@9359b7f40b25-3de42b26e6c2425caeebac3811b64497: Go to this URL in a browser: https://accounts.google.com/o/oauth2/auth?client_id=947318989803-6bn6qk8qdgf4n4g3pfee6491hc0brc4i.apps.googleusercontent.com&redirect_uri=urn%3aietf%3awg%3aoauth%3a2.0%3aoob&scope=email%20https%3a%2f%2fwww.googleapis.com%2fauth%2fdocs.test%20https%3a%2f%2fwww.googleapis.com%2fauth%2fdrive%20https%3a%2f%2fwww.googleapis.com%2fauth%2fdrive.photos.readonly%20https%3a%2f%2fwww.googleapis.com%2fauth%2fpeopleapi.readonly%20https%3a%2f%2fwww.googleapis.com%2fauth%2fdrive.activity.readonly%20https%3a%2f%2fwww.googleapis.com%2fauth%2fexperimentsandconfigs%20https%3a%2f%2fwww.googleapis.com%2fauth%2fphotos.native&response_type=code\n",
            "google.colab.drive MOUNTED\n",
            "fuser -kw \"/root/.config/Google/DriveFS/Logs/timeouts.txt\" ; rm -rf \"/root/.config/Google/DriveFS/Logs/timeouts.txt\"\n",
            "Specified filename /root/.config/Google/DriveFS/Logs/timeouts.txt does not exist.\n",
            "root@9359b7f40b25-3de42b26e6c2425caeebac3811b64497: nohup bash -c 'tail -n +0 -F \"/root/.config/Google/DriveFS/Logs/drive_fs.txt\" | python3 /opt/google/drive/drive-filter.py > \"/root/.config/Google/DriveFS/Logs/timeouts.txt\" ' < /dev/null > /dev/null 2>&1 &\n",
            "[3] 245\n",
            "root@9359b7f40b25-3de42b26e6c2425caeebac3811b64497: disown -a\n",
            "root@9359b7f40b25-3de42b26e6c2425caeebac3811b64497: exit\n",
            "Mounted at /content/gdrive/\n"
          ],
          "name": "stdout"
        }
      ]
    },
    {
      "cell_type": "code",
      "metadata": {
        "id": "YMYeiIs45ykb"
      },
      "source": [
        "!cp '/content/gdrive/MyDrive/data.zip' data.zip"
      ],
      "execution_count": 4,
      "outputs": []
    },
    {
      "cell_type": "code",
      "metadata": {
        "id": "3MBOJ09gNEb_"
      },
      "source": [
        "os.makedirs(\"celeba_gan/1\")\n",
        "\n",
        "with ZipFile(\"data.zip\", \"r\") as zipobj:\n",
        "    zipobj.extractall(\"celeba_gan/1\")\n"
      ],
      "execution_count": 5,
      "outputs": []
    },
    {
      "cell_type": "code",
      "metadata": {
        "id": "FuSrRhpTUj1W"
      },
      "source": [
        "#!for f in '/content/leba_gan/*'; do mv $f ${f#??}; done\n",
        "#!pwd\n",
        "\n",
        "\n",
        "#!rename /content/leba_gan/'s/cs//' /content/leba_gan/'*.png'\n",
        "\n"
      ],
      "execution_count": null,
      "outputs": []
    },
    {
      "cell_type": "code",
      "metadata": {
        "id": "O_m7bt_leOAo"
      },
      "source": [
        "#!cd leba_gan/ & !ls\n"
      ],
      "execution_count": null,
      "outputs": []
    },
    {
      "cell_type": "markdown",
      "metadata": {
        "id": "CWI8Q1I-yQIU"
      },
      "source": [
        "Create a dataset from our folder, and rescale the images to the [0-1] range:"
      ]
    },
    {
      "cell_type": "code",
      "metadata": {
        "id": "_KBYXSLayQIV",
        "colab": {
          "base_uri": "https://localhost:8080/"
        },
        "outputId": "c786f8bc-72bd-48c5-9c07-9c16029cb1a7"
      },
      "source": [
        "dataset = dataset = keras.preprocessing.image_dataset_from_directory(\n",
        "    \"celeba_gan\", label_mode=None, image_size=(64, 64), batch_size=32\n",
        "    )\n",
        "dataset = dataset.map(lambda x: x / 255.0)"
      ],
      "execution_count": 6,
      "outputs": [
        {
          "output_type": "stream",
          "text": [
            "Found 10000 files belonging to 1 classes.\n"
          ],
          "name": "stdout"
        }
      ]
    },
    {
      "cell_type": "markdown",
      "metadata": {
        "id": "z1V_Bt-OyQIV"
      },
      "source": [
        "Let's display a sample image:"
      ]
    },
    {
      "cell_type": "code",
      "metadata": {
        "id": "BWb_BmkCyQIX",
        "colab": {
          "base_uri": "https://localhost:8080/",
          "height": 248
        },
        "outputId": "925a8f0b-e888-4232-b72e-85c9c38f29ff"
      },
      "source": [
        "for x in dataset:\n",
        "    plt.axis(\"off\")\n",
        "    plt.imshow((x.numpy() * 255).astype(\"int32\")[0])\n",
        "    break"
      ],
      "execution_count": 7,
      "outputs": [
        {
          "output_type": "display_data",
          "data": {
            "image/png": "[encoded data removed]",
            "text/plain": [
              "<Figure size 432x288 with 1 Axes>"
            ]
          },
          "metadata": {
            "tags": [],
            "needs_background": "light"
          }
        }
      ]
    },
    {
      "cell_type": "markdown",
      "metadata": {
        "id": "GGhzsFXfyQIY"
      },
      "source": [
        "## Create the discriminator\n",
        "\n",
        "It maps a 64x64 image to a binary classification score."
      ]
    },
    {
      "cell_type": "code",
      "metadata": {
        "id": "0Z5dlr9eyQIY",
        "colab": {
          "base_uri": "https://localhost:8080/"
        },
        "outputId": "da182d49-ec22-4ebc-f0c2-70aca5bb5b08"
      },
      "source": [
        "discriminator = keras.Sequential(\n",
        "    [\n",
        "        keras.Input(shape=(64, 64, 3)),\n",
        "        layers.Conv2D(64, kernel_size=4, strides=2, padding=\"same\"),\n",
        "        layers.LeakyReLU(alpha=0.2),\n",
        "        layers.Conv2D(128, kernel_size=4, strides=2, padding=\"same\"),\n",
        "        layers.LeakyReLU(alpha=0.2),\n",
        "        layers.Conv2D(128, kernel_size=4, strides=2, padding=\"same\"),\n",
        "        layers.LeakyReLU(alpha=0.2),\n",
        "        layers.Flatten(),\n",
        "        layers.Dropout(0.2),\n",
        "        layers.Dense(1, activation=\"sigmoid\"),\n",
        "    ],\n",
        "    name=\"discriminator\",\n",
        ")\n",
        "discriminator.summary()"
      ],
      "execution_count": 8,
      "outputs": [
        {
          "output_type": "stream",
          "text": [
            "Model: \"discriminator\"\n",
            "_________________________________________________________________\n",
            "Layer (type)                 Output Shape              Param #   \n",
            "=================================================================\n",
            "conv2d (Conv2D)              (None, 32, 32, 64)        3136      \n",
            "_________________________________________________________________\n",
            "leaky_re_lu (LeakyReLU)      (None, 32, 32, 64)        0         \n",
            "_________________________________________________________________\n",
            "conv2d_1 (Conv2D)            (None, 16, 16, 128)       131200    \n",
            "_________________________________________________________________\n",
            "leaky_re_lu_1 (LeakyReLU)    (None, 16, 16, 128)       0         \n",
            "_________________________________________________________________\n",
            "conv2d_2 (Conv2D)            (None, 8, 8, 128)         262272    \n",
            "_________________________________________________________________\n",
            "leaky_re_lu_2 (LeakyReLU)    (None, 8, 8, 128)         0         \n",
            "_________________________________________________________________\n",
            "flatten (Flatten)            (None, 8192)              0         \n",
            "_________________________________________________________________\n",
            "dropout (Dropout)            (None, 8192)              0         \n",
            "_________________________________________________________________\n",
            "dense (Dense)                (None, 1)                 8193      \n",
            "=================================================================\n",
            "Total params: 404,801\n",
            "Trainable params: 404,801\n",
            "Non-trainable params: 0\n",
            "_________________________________________________________________\n"
          ],
          "name": "stdout"
        }
      ]
    },
    {
      "cell_type": "markdown",
      "metadata": {
        "id": "MTvS0hCGyQIZ"
      },
      "source": [
        "## Create the generator\n",
        "\n",
        "It mirrors the discriminator, replacing `Conv2D` layers with `Conv2DTranspose` layers."
      ]
    },
    {
      "cell_type": "code",
      "metadata": {
        "id": "bboMzcQWyQIZ",
        "colab": {
          "base_uri": "https://localhost:8080/"
        },
        "outputId": "c21a8749-9501-4777-f979-17f9b5509d9c"
      },
      "source": [
        "latent_dim = 128\n",
        "\n",
        "generator = keras.Sequential(\n",
        "    [\n",
        "        keras.Input(shape=(latent_dim,)),\n",
        "        layers.Dense(8 * 8 * 128),\n",
        "        layers.Reshape((8, 8, 128)),\n",
        "        layers.Conv2DTranspose(128, kernel_size=4, strides=2, padding=\"same\"),\n",
        "        layers.LeakyReLU(alpha=0.2),\n",
        "        layers.Conv2DTranspose(256, kernel_size=4, strides=2, padding=\"same\"),\n",
        "        layers.LeakyReLU(alpha=0.2),\n",
        "        layers.Conv2DTranspose(512, kernel_size=4, strides=2, padding=\"same\"),\n",
        "        layers.LeakyReLU(alpha=0.2),\n",
        "        layers.Conv2D(3, kernel_size=5, padding=\"same\", activation=\"sigmoid\"),\n",
        "    ],\n",
        "    name=\"generator\",\n",
        ")\n",
        "generator.summary()"
      ],
      "execution_count": 9,
      "outputs": [
        {
          "output_type": "stream",
          "text": [
            "Model: \"generator\"\n",
            "_________________________________________________________________\n",
            "Layer (type)                 Output Shape              Param #   \n",
            "=================================================================\n",
            "dense_1 (Dense)              (None, 8192)              1056768   \n",
            "_________________________________________________________________\n",
            "reshape (Reshape)            (None, 8, 8, 128)         0         \n",
            "_________________________________________________________________\n",
            "conv2d_transpose (Conv2DTran (None, 16, 16, 128)       262272    \n",
            "_________________________________________________________________\n",
            "leaky_re_lu_3 (LeakyReLU)    (None, 16, 16, 128)       0         \n",
            "_________________________________________________________________\n",
            "conv2d_transpose_1 (Conv2DTr (None, 32, 32, 256)       524544    \n",
            "_________________________________________________________________\n",
            "leaky_re_lu_4 (LeakyReLU)    (None, 32, 32, 256)       0         \n",
            "_________________________________________________________________\n",
            "conv2d_transpose_2 (Conv2DTr (None, 64, 64, 512)       2097664   \n",
            "_________________________________________________________________\n",
            "leaky_re_lu_5 (LeakyReLU)    (None, 64, 64, 512)       0         \n",
            "_________________________________________________________________\n",
            "conv2d_3 (Conv2D)            (None, 64, 64, 3)         38403     \n",
            "=================================================================\n",
            "Total params: 3,979,651\n",
            "Trainable params: 3,979,651\n",
            "Non-trainable params: 0\n",
            "_________________________________________________________________\n"
          ],
          "name": "stdout"
        }
      ]
    },
    {
      "cell_type": "markdown",
      "metadata": {
        "id": "3my91q1fyQIa"
      },
      "source": [
        "## Override `train_step`"
      ]
    },
    {
      "cell_type": "code",
      "metadata": {
        "id": "JpFi2G0qyQIa"
      },
      "source": [
        "\n",
        "class GAN(keras.Model):\n",
        "    def __init__(self, discriminator, generator, latent_dim):\n",
        "        super(GAN, self).__init__()\n",
        "        self.discriminator = discriminator\n",
        "        self.generator = generator\n",
        "        self.latent_dim = latent_dim\n",
        "\n",
        "    def compile(self, d_optimizer, g_optimizer, loss_fn):\n",
        "        super(GAN, self).compile()\n",
        "        self.d_optimizer = d_optimizer\n",
        "        self.g_optimizer = g_optimizer\n",
        "        self.loss_fn = loss_fn\n",
        "        self.d_loss_metric = keras.metrics.Mean(name=\"d_loss\")\n",
        "        self.g_loss_metric = keras.metrics.Mean(name=\"g_loss\")\n",
        "\n",
        "    @property\n",
        "    def metrics(self):\n",
        "        return [self.d_loss_metric, self.g_loss_metric]\n",
        "\n",
        "    def train_step(self, real_images):\n",
        "        # Sample random points in the latent space\n",
        "        batch_size = tf.shape(real_images)[0]\n",
        "        random_latent_vectors = tf.random.normal(shape=(batch_size, self.latent_dim))\n",
        "\n",
        "        # Decode them to fake images\n",
        "        generated_images = self.generator(random_latent_vectors)\n",
        "\n",
        "        # Combine them with real images\n",
        "        combined_images = tf.concat([generated_images, real_images], axis=0)\n",
        "\n",
        "        # Assemble labels discriminating real from fake images\n",
        "        labels = tf.concat(\n",
        "            [tf.ones((batch_size, 1)), tf.zeros((batch_size, 1))], axis=0\n",
        "        )\n",
        "        # Add random noise to the labels - important trick!\n",
        "        labels += 0.05 * tf.random.uniform(tf.shape(labels))\n",
        "\n",
        "        # Train the discriminator\n",
        "        with tf.GradientTape() as tape:\n",
        "            predictions = self.discriminator(combined_images)\n",
        "            d_loss = self.loss_fn(labels, predictions)\n",
        "        grads = tape.gradient(d_loss, self.discriminator.trainable_weights)\n",
        "        self.d_optimizer.apply_gradients(\n",
        "            zip(grads, self.discriminator.trainable_weights)\n",
        "        )\n",
        "\n",
        "        # Sample random points in the latent space\n",
        "        random_latent_vectors = tf.random.normal(shape=(batch_size, self.latent_dim))\n",
        "\n",
        "        # Assemble labels that say \"all real images\"\n",
        "        misleading_labels = tf.zeros((batch_size, 1))\n",
        "\n",
        "        # Train the generator (note that we should *not* update the weights\n",
        "        # of the discriminator)!\n",
        "        with tf.GradientTape() as tape:\n",
        "            predictions = self.discriminator(self.generator(random_latent_vectors))\n",
        "            g_loss = self.loss_fn(misleading_labels, predictions)\n",
        "        grads = tape.gradient(g_loss, self.generator.trainable_weights)\n",
        "        self.g_optimizer.apply_gradients(zip(grads, self.generator.trainable_weights))\n",
        "\n",
        "        # Update metrics\n",
        "        self.d_loss_metric.update_state(d_loss)\n",
        "        self.g_loss_metric.update_state(g_loss)\n",
        "        return {\n",
        "            \"d_loss\": self.d_loss_metric.result(),\n",
        "            \"g_loss\": self.g_loss_metric.result(),\n",
        "        }\n"
      ],
      "execution_count": 10,
      "outputs": []
    },
    {
      "cell_type": "markdown",
      "metadata": {
        "id": "07PssgqRyQIb"
      },
      "source": [
        "## Create a callback that periodically saves generated images"
      ]
    },
    {
      "cell_type": "code",
      "metadata": {
        "id": "ROfPTi8pyQIc"
      },
      "source": [
        "\n",
        "class GANMonitor(keras.callbacks.Callback):\n",
        "    def __init__(self, num_img=3, latent_dim=128):\n",
        "        self.num_img = num_img\n",
        "        self.latent_dim = latent_dim\n",
        "\n",
        "    def on_epoch_end(self, epoch, logs=None):\n",
        "        random_latent_vectors = tf.random.normal(shape=(self.num_img, self.latent_dim))\n",
        "        generated_images = self.model.generator(random_latent_vectors)\n",
        "        generated_images *= 255\n",
        "        generated_images.numpy()\n",
        "        for i in range(self.num_img):\n",
        "            img = keras.preprocessing.image.array_to_img(generated_images[i])\n",
        "            img.save(\"/content/gdrive/MyDrive/Brief15/generated_img_%03d_%d.png\" % (epoch, i))\n",
        "            "
      ],
      "execution_count": 11,
      "outputs": []
    },
    {
      "cell_type": "markdown",
      "metadata": {
        "id": "HIkhxcNxyQIc"
      },
      "source": [
        "## Train the end-to-end model"
      ]
    },
    {
      "cell_type": "code",
      "metadata": {
        "id": "Pla_l6tGyQId",
        "colab": {
          "base_uri": "https://localhost:8080/"
        },
        "outputId": "33a968dd-1c7e-448c-f415-5c14e7ef7bed"
      },
      "source": [
        "epochs = 100  # In practice, use ~100 epochs\n",
        "\n",
        "gan = GAN(discriminator=discriminator, generator=generator, latent_dim=latent_dim)\n",
        "gan.compile(\n",
        "    d_optimizer=keras.optimizers.Adam(learning_rate=0.0001),\n",
        "    g_optimizer=keras.optimizers.Adam(learning_rate=0.0001),\n",
        "    loss_fn=keras.losses.BinaryCrossentropy(),\n",
        ")\n",
        "gan.built=True\n",
        "gan.load_weights(\"/content/gdrive/MyDrive/Brief15/saved.h5\") #restart from previouly saved weights\n",
        "\n",
        "history = gan.fit(\n",
        "    dataset, epochs=epochs, callbacks=[GANMonitor(num_img=10, latent_dim=latent_dim)]\n",
        ")"
      ],
      "execution_count": null,
      "outputs": [
        {
          "output_type": "stream",
          "text": [
            "Epoch 1/100\n",
            "313/313 [==============================] - 164s 402ms/step - d_loss: 0.1395 - g_loss: 10.1573\n",
            "Epoch 2/100\n",
            "313/313 [==============================] - 131s 416ms/step - d_loss: 0.0404 - g_loss: 7.5602\n",
            "Epoch 3/100\n",
            "313/313 [==============================] - 131s 415ms/step - d_loss: 0.0134 - g_loss: 10.8812\n",
            "Epoch 4/100\n",
            "313/313 [==============================] - 131s 416ms/step - d_loss: 0.1486 - g_loss: 11.8019\n",
            "Epoch 5/100\n",
            "313/313 [==============================] - 131s 416ms/step - d_loss: 0.4066 - g_loss: 2.3077\n",
            "Epoch 6/100\n",
            "313/313 [==============================] - 131s 415ms/step - d_loss: 0.2220 - g_loss: 2.1735\n",
            "Epoch 7/100\n",
            "313/313 [==============================] - 130s 414ms/step - d_loss: 0.3557 - g_loss: 1.6467\n",
            "Epoch 8/100\n",
            "313/313 [==============================] - 131s 415ms/step - d_loss: 0.6317 - g_loss: 1.0714\n",
            "Epoch 9/100\n",
            "313/313 [==============================] - 131s 414ms/step - d_loss: 0.7294 - g_loss: 0.9173\n",
            "Epoch 10/100\n",
            "313/313 [==============================] - 131s 414ms/step - d_loss: 0.6523 - g_loss: 0.8930\n",
            "Epoch 11/100\n",
            "313/313 [==============================] - 131s 414ms/step - d_loss: 0.6497 - g_loss: 0.9621\n",
            "Epoch 12/100\n",
            "313/313 [==============================] - 131s 414ms/step - d_loss: 0.6233 - g_loss: 0.9868\n",
            "Epoch 13/100\n",
            "313/313 [==============================] - 131s 414ms/step - d_loss: 0.5983 - g_loss: 0.9874\n",
            "Epoch 14/100\n",
            "313/313 [==============================] - 130s 413ms/step - d_loss: 0.6018 - g_loss: 0.9648\n",
            "Epoch 15/100\n",
            "313/313 [==============================] - 131s 414ms/step - d_loss: 0.6116 - g_loss: 1.0406\n",
            "Epoch 16/100\n",
            "313/313 [==============================] - 131s 415ms/step - d_loss: 0.5955 - g_loss: 1.0452\n",
            "Epoch 17/100\n",
            "313/313 [==============================] - 131s 415ms/step - d_loss: 0.5844 - g_loss: 1.0659\n",
            "Epoch 18/100\n",
            "313/313 [==============================] - 131s 415ms/step - d_loss: 0.5686 - g_loss: 1.0925\n",
            "Epoch 19/100\n",
            "313/313 [==============================] - 131s 414ms/step - d_loss: 0.5665 - g_loss: 1.1011\n",
            "Epoch 20/100\n",
            "313/313 [==============================] - 131s 415ms/step - d_loss: 0.5663 - g_loss: 1.1469\n",
            "Epoch 21/100\n",
            "313/313 [==============================] - 131s 415ms/step - d_loss: 0.5657 - g_loss: 1.1601\n",
            "Epoch 22/100\n",
            "313/313 [==============================] - 131s 416ms/step - d_loss: 0.5259 - g_loss: 1.2155\n",
            "Epoch 23/100\n",
            "313/313 [==============================] - 131s 416ms/step - d_loss: 0.5377 - g_loss: 1.1884\n",
            "Epoch 24/100\n",
            "313/313 [==============================] - 131s 416ms/step - d_loss: 0.5555 - g_loss: 1.3013\n",
            "Epoch 25/100\n",
            "313/313 [==============================] - 131s 415ms/step - d_loss: 0.5521 - g_loss: 1.2053\n",
            "Epoch 26/100\n",
            "313/313 [==============================] - 131s 416ms/step - d_loss: 0.5567 - g_loss: 1.1474\n",
            "Epoch 27/100\n",
            "313/313 [==============================] - 131s 415ms/step - d_loss: 0.5396 - g_loss: 1.1452\n",
            "Epoch 28/100\n",
            "313/313 [==============================] - 131s 415ms/step - d_loss: 0.5102 - g_loss: 1.2207\n",
            "Epoch 29/100\n",
            "313/313 [==============================] - 131s 415ms/step - d_loss: 0.5165 - g_loss: 1.2529\n",
            "Epoch 30/100\n",
            "313/313 [==============================] - 131s 414ms/step - d_loss: 0.4993 - g_loss: 1.3125\n",
            "Epoch 31/100\n",
            "313/313 [==============================] - 131s 414ms/step - d_loss: 0.4551 - g_loss: 1.4332\n",
            "Epoch 32/100\n",
            "313/313 [==============================] - 131s 414ms/step - d_loss: 0.4609 - g_loss: 1.4448\n",
            "Epoch 33/100\n",
            "313/313 [==============================] - 131s 415ms/step - d_loss: 0.4556 - g_loss: 1.4680\n",
            "Epoch 34/100\n",
            "313/313 [==============================] - 131s 415ms/step - d_loss: 0.4793 - g_loss: 1.4101\n",
            "Epoch 35/100\n",
            "313/313 [==============================] - 131s 415ms/step - d_loss: 0.4776 - g_loss: 1.3625\n",
            "Epoch 36/100\n",
            "313/313 [==============================] - 131s 415ms/step - d_loss: 0.4662 - g_loss: 1.4139\n",
            "Epoch 37/100\n",
            "313/313 [==============================] - 131s 414ms/step - d_loss: 0.4479 - g_loss: 1.4938\n",
            "Epoch 38/100\n",
            "313/313 [==============================] - 131s 415ms/step - d_loss: 0.4417 - g_loss: 1.4872\n",
            "Epoch 39/100\n",
            "313/313 [==============================] - 131s 414ms/step - d_loss: 0.4134 - g_loss: 1.5562\n",
            "Epoch 40/100\n",
            "313/313 [==============================] - 131s 414ms/step - d_loss: 0.4364 - g_loss: 1.6029\n",
            "Epoch 41/100\n",
            "313/313 [==============================] - 130s 413ms/step - d_loss: 0.4221 - g_loss: 1.5194\n",
            "Epoch 42/100\n",
            "313/313 [==============================] - 130s 414ms/step - d_loss: 0.4101 - g_loss: 1.5781\n",
            "Epoch 43/100\n",
            "313/313 [==============================] - 130s 413ms/step - d_loss: 0.3775 - g_loss: 1.6796\n",
            "Epoch 44/100\n",
            "313/313 [==============================] - 131s 415ms/step - d_loss: 0.3658 - g_loss: 1.7860\n",
            "Epoch 45/100\n",
            "313/313 [==============================] - 130s 414ms/step - d_loss: 0.3706 - g_loss: 1.7703\n",
            "Epoch 46/100\n",
            "313/313 [==============================] - 131s 414ms/step - d_loss: 0.3854 - g_loss: 1.6356\n",
            "Epoch 47/100\n",
            "313/313 [==============================] - 131s 414ms/step - d_loss: 0.3645 - g_loss: 1.7034\n",
            "Epoch 48/100\n",
            "313/313 [==============================] - 130s 414ms/step - d_loss: 0.3691 - g_loss: 1.7098\n",
            "Epoch 49/100\n",
            " 83/313 [======>.......................] - ETA: 1:36 - d_loss: 0.3668 - g_loss: 1.6975"
          ],
          "name": "stdout"
        }
      ]
    },
    {
      "cell_type": "code",
      "metadata": {
        "id": "0F0z1nIx4h93"
      },
      "source": [
        "history.history.keys()"
      ],
      "execution_count": null,
      "outputs": []
    },
    {
      "cell_type": "code",
      "metadata": {
        "id": "KN8vd1535Jw7"
      },
      "source": [
        "import pandas as pd\n",
        "pd.DataFrame(history.history).plot(figsize=(8, 5))\n",
        "plt.grid(True)\n",
        "plt.gca().set_ylim(0, 5) # set the vertical range to [0-1]\n",
        "plt.show()"
      ],
      "execution_count": null,
      "outputs": []
    },
    {
      "cell_type": "code",
      "metadata": {
        "id": "QkNC6EijqVAr"
      },
      "source": [
        "gan.save_weights(\"/content/gdrive/MyDrive/Brief15/saved.h5\")"
      ],
      "execution_count": null,
      "outputs": []
    },
    {
      "cell_type": "code",
      "metadata": {
        "id": "9Er583ZaFvr4"
      },
      "source": [
        "import IPython.display as display\n",
        "from PIL import Image\n",
        "\n",
        "for i in range(10):\n",
        "  image_path = '/content/gdrive/MyDrive/Brief15/generated_img_005_'+str(i)+'.png'\n",
        "  display.display(Image.open(image_path))"
      ],
      "execution_count": null,
      "outputs": []
    },
    {
      "cell_type": "code",
      "metadata": {
        "colab": {
          "base_uri": "https://localhost:8080/",
          "height": 657
        },
        "id": "zCwFf6ruoQqs",
        "outputId": "e64ea6c7-8222-4396-daad-8815ff077cf5"
      },
      "source": [
        "\n"
      ],
      "execution_count": 53,
      "outputs": [
        {
          "output_type": "display_data",
          "data": {
            "image/png": "[encoded data removed]",
            "text/plain": [
              "<PIL.PngImagePlugin.PngImageFile image mode=RGB size=64x64 at 0x7F215BF5EC10>"
            ]
          },
          "metadata": {
            "tags": []
          }
        },
        {
          "output_type": "display_data",
          "data": {
            "image/png": "[encoded data removed]",
            "text/plain": [
              "<PIL.PngImagePlugin.PngImageFile image mode=RGB size=64x64 at 0x7F20FC49E6D0>"
            ]
          },
          "metadata": {
            "tags": []
          }
        },
        {
          "output_type": "display_data",
          "data": {
            "image/png": "[encoded data removed]",
            "text/plain": [
              "<PIL.PngImagePlugin.PngImageFile image mode=RGB size=64x64 at 0x7F215BF58D10>"
            ]
          },
          "metadata": {
            "tags": []
          }
        },
        {
          "output_type": "display_data",
          "data": {
            "image/png": "[encoded data removed]",
            "text/plain": [
              "<PIL.PngImagePlugin.PngImageFile image mode=RGB size=64x64 at 0x7F215BF58A50>"
            ]
          },
          "metadata": {
            "tags": []
          }
        },
        {
          "output_type": "display_data",
          "data": {
            "image/png": "[encoded data removed]",
            "text/plain": [
              "<PIL.PngImagePlugin.PngImageFile image mode=RGB size=64x64 at 0x7F20FC49E6D0>"
            ]
          },
          "metadata": {
            "tags": []
          }
        },
        {
          "output_type": "display_data",
          "data": {
            "image/png": "[encoded data removed]",
            "text/plain": [
              "<PIL.PngImagePlugin.PngImageFile image mode=RGB size=64x64 at 0x7F2154F63ED0>"
            ]
          },
          "metadata": {
            "tags": []
          }
        },
        {
          "output_type": "display_data",
          "data": {
            "image/png": "[encoded data removed]",
            "text/plain": [
              "<PIL.PngImagePlugin.PngImageFile image mode=RGB size=64x64 at 0x7F20FC49E6D0>"
            ]
          },
          "metadata": {
            "tags": []
          }
        },
        {
          "output_type": "display_data",
          "data": {
            "image/png": "[encoded data removed]",
            "text/plain": [
              "<PIL.PngImagePlugin.PngImageFile image mode=RGB size=64x64 at 0x7F20FFE281D0>"
            ]
          },
          "metadata": {
            "tags": []
          }
        },
        {
          "output_type": "display_data",
          "data": {
            "image/png": "[encoded data removed]",
            "text/plain": [
              "<PIL.PngImagePlugin.PngImageFile image mode=RGB size=64x64 at 0x7F215BF58D10>"
            ]
          },
          "metadata": {
            "tags": []
          }
        },
        {
          "output_type": "display_data",
          "data": {
            "image/png": "[encoded data removed]",
            "text/plain": [
              "<PIL.PngImagePlugin.PngImageFile image mode=RGB size=64x64 at 0x7F2154F63ED0>"
            ]
          },
          "metadata": {
            "tags": []
          }
        }
      ]
    }
  ]
}